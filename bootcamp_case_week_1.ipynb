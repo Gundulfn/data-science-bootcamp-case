{
 "cells": [
  {
   "cell_type": "markdown",
   "metadata": {},
   "source": [
    "# Case Study"
   ]
  },
  {
   "cell_type": "markdown",
   "metadata": {},
   "source": [
    "### Introduction\n",
    "\n",
    "A mobile shopping platform is one of the best practices of creating a new business model based on big data and CRM technologies. This platform knows customers' preferences, shopping habits, even the number of children they have, the town their parents live, the activities they do in leisure times etc. This enables the platform to offer a personalized experience with customized campaigns designed for identified micro and macro segments based on customers' lifestyle and preferences through their transactions, without asking any questions. <br/>\n",
    "\n",
    "Data science is the heart of this platform to enhance a rich and customized reach to its each customer. Mass amount of data is collected from online and offline sources about each customer and data science team works on utilizing this data in an insightful manner to be used in identifying shopping behaviors, motivations and needs of each customer on the path of acquisition, retention and growth models. <br/>\n",
    "\n",
    "\n",
    "We prepared this notebook to test the knowledge of our fellow candidates. Good luck to all of you !!"
   ]
  },
  {
   "cell_type": "markdown",
   "metadata": {},
   "source": [
    "|   cid |   month |   spending |   transaction |\n",
    "|------:|--------:|-----------:|--------------:|\n",
    "|     1 |       3 |      52.57 |            27 |\n",
    "|     1 |       4 |      76.98 |            24 |\n",
    "|     1 |       7 |      66.42 |            26 |\n",
    "|     1 |       8 |      54.54 |            26 |\n",
    "|     1 |       9 |     128.21 |            27 |"
   ]
  },
  {
   "cell_type": "markdown",
   "metadata": {},
   "source": [
    "This is a sample transaction data of our customers:\n",
    "\n",
    "- **cid**: Customer Id column represents the unique id assigned to each customer\n",
    "- **month**: Month column represents the month of the transactions\n",
    "- **spending**: Spending column represents the total paid amount within the month\n",
    "- **transaction**: Transaction column represents the total number of transactions within the month\n",
    "\n",
    "**Feel free to add as many cell you need while solving the question and add comments explaining your answer.**"
   ]
  },
  {
   "cell_type": "markdown",
   "metadata": {},
   "source": [
    "## Question 1"
   ]
  },
  {
   "cell_type": "markdown",
   "metadata": {},
   "source": [
    "#### Data importing & wrangling\n",
    "1. Import the necessary packages and functions.\n",
    "2. Read the csv data.\n",
    "3. Write some code to explore the dataset. (row numbers, data types, etc.)\n",
    "4. Assess data visually as well as programmatically using pandas for quality and tidiness issues. "
   ]
  },
  {
   "cell_type": "code",
   "execution_count": null,
   "metadata": {},
   "outputs": [],
   "source": [
    "pip install matplotlib"
   ]
  },
  {
   "cell_type": "code",
   "execution_count": null,
   "metadata": {},
   "outputs": [],
   "source": [
    "pip install re"
   ]
  },
  {
   "cell_type": "code",
   "execution_count": null,
   "metadata": {},
   "outputs": [],
   "source": [
    "pip install pandas"
   ]
  },
  {
   "cell_type": "code",
   "execution_count": 21,
   "metadata": {},
   "outputs": [],
   "source": [
    "import pandas as pd\n",
    "import matplotlib.pyplot as plt"
   ]
  },
  {
   "cell_type": "code",
   "execution_count": 15,
   "metadata": {},
   "outputs": [],
   "source": [
    "# 2.Gathering the data\n",
    "df = pd.read_csv(\"data.csv\")"
   ]
  },
  {
   "cell_type": "code",
   "execution_count": 27,
   "metadata": {},
   "outputs": [
    {
     "name": "stdout",
     "output_type": "stream",
     "text": [
      "--------------------------------------------------------\n",
      "Dataframe Shape: (74669, 4) \n",
      "\n",
      "Data Value Types\n",
      "cid              int64\n",
      "month            int64\n",
      "spending       float64\n",
      "transaction      int64\n",
      "dtype: object\n",
      "--------------------------------------------------------\n",
      "                cid         month      spending   transaction\n",
      "count  74669.000000  74669.000000  74669.000000  74669.000000\n",
      "mean    5007.502029      6.502404    106.310297     29.495641\n",
      "std     2883.623913      3.454033     97.689002      9.793271\n",
      "min        1.000000      1.000000     25.920000      2.000000\n",
      "25%     2506.000000      4.000000     56.060000     23.000000\n",
      "50%     5015.000000      6.000000     79.490000     28.000000\n",
      "75%     7502.000000     10.000000    120.890000     34.000000\n",
      "max    10000.000000     12.000000   3512.160000    148.000000\n",
      "--------------------------------------------------------\n",
      "First 100 Values\n",
      "     cid  month  spending  transaction\n",
      "0     1      3     52.57           27\n",
      "1     1      4     76.98           24\n",
      "2     1      7     66.42           26\n",
      "3     1      8     54.54           26\n",
      "4     1      9    128.21           27\n",
      "5     1     10     49.57           18\n",
      "6     1     11    288.44           37\n",
      "7     2      1    186.01           37\n",
      "8     2      2     43.30           28\n",
      "9     2      3     75.66           35\n",
      "10    2      4     58.60           24\n",
      "11    2      6     65.07           27\n",
      "12    2      9     66.13           25\n",
      "13    2     11     38.68           42\n",
      "14    2     12     37.60           48\n",
      "15    3      1     66.19           28\n",
      "16    3      4     59.15           25\n",
      "17    3      7     42.07           17\n",
      "18    3      8    141.75           26\n",
      "19    3      9    159.92           51\n",
      "20    3     11     52.42           21\n",
      "21    4      1     60.07           25\n",
      "22    4      8     83.96           23\n",
      "23    4     10     38.35           24\n",
      "24    4     12    163.17           29\n",
      "25    5      1     53.08           18\n",
      "26    5      4     64.12           26\n",
      "27    5      6     59.17           33\n",
      "28    5      7     67.24           33\n",
      "29    5      8     99.41           30\n",
      "30    5     10    284.20           29\n",
      "31    6      3     42.56           32\n",
      "32    6      7     57.73           24\n",
      "33    6      8     75.09           38\n",
      "34    6     10     34.68           23\n",
      "35    6     11     48.29           16\n",
      "36    7      1     72.75           23\n",
      "37    7      2     59.78           20\n",
      "38    7      3     93.01           23\n",
      "39    7      5     49.95           18\n",
      "40    7      6    128.62           31\n",
      "41    7      7     73.83           32\n",
      "42    7      9    153.33           53\n",
      "43    7     11    138.67           30\n",
      "44    7     12    114.36           62\n",
      "45    8      2    179.12           30\n",
      "46    8      3     89.98           22\n",
      "47    8      4    108.81           30\n",
      "48    8      6     79.00           33\n",
      "49    8      8    167.48           27\n",
      "50    8     10    108.32           31\n",
      "51    8     12     96.88           37\n",
      "52    9      4     45.92           32\n",
      "53    9      5     99.74           26\n",
      "54    9      6    340.24           29\n",
      "55    9     11     93.57           21\n",
      "56    9     12    138.82           38\n",
      "57   10      2     91.88           40\n",
      "58   10      3     80.89           36\n",
      "59   10      6    144.65           31\n",
      "60   10      7     51.56           20\n",
      "61   10      8     54.36           28\n",
      "62   10     10     37.52           24\n",
      "63   10     12     54.09           25\n",
      "64   11      1     80.93           24\n",
      "65   11      2    177.94           28\n",
      "66   11      3     66.86           19\n",
      "67   11      5     70.30           40\n",
      "68   11      6    117.58           28\n",
      "69   11      7    104.67           44\n",
      "70   11      8     66.60           47\n",
      "71   11      9     75.47           20\n",
      "72   11     10     91.88           29\n",
      "73   11     11     57.18           26\n",
      "74   11     12     85.62           46\n",
      "75   12      1    124.86           25\n",
      "76   12      3     64.88           22\n",
      "77   12      6     47.89           24\n",
      "78   12      8    113.17           25\n",
      "79   12     10     50.51           20\n",
      "80   12     12     46.25           24\n",
      "81   13      1     75.12           57\n",
      "82   13      2    144.54           27\n",
      "83   13      4     44.91           23\n",
      "84   13      5     42.55           20\n",
      "85   13      6     65.52           45\n",
      "86   13      7     77.10           28\n",
      "87   13      9     33.19           20\n",
      "88   13     10    147.81           29\n",
      "89   13     11    327.84           33\n",
      "90   14      1     48.99           32\n",
      "91   14      2     78.38           21\n",
      "92   14      4     49.41           32\n",
      "93   14      5    377.78           38\n",
      "94   14      6     75.36           44\n",
      "95   14      7     64.48           31\n",
      "96   14      8     46.83           19\n",
      "97   14      9     67.33           30\n",
      "98   14     10     81.79           31\n",
      "99   14     12     44.33           27\n",
      "--------------------------------------------------------\n"
     ]
    }
   ],
   "source": [
    "# 3.Explore the data\n",
    "def explore_dataframe(df):\n",
    "    print(\"--------------------------------------------------------\")\n",
    "    print(\"Dataframe Shape:\", df.shape, \"\\n\")\n",
    "    print(\"Data Value Types\")\n",
    "    print(df.dtypes)\n",
    "    print(\"--------------------------------------------------------\")\n",
    "    print(df.describe())\n",
    "    print(\"--------------------------------------------------------\")\n",
    "    # Check output data in a text editor to see first 100 data values\n",
    "    print(\"First 100 Values\\n\", df.head(100).to_string())\n",
    "    print(\"--------------------------------------------------------\")\n",
    "\n",
    "explore_dataframe(df)\n"
   ]
  },
  {
   "cell_type": "code",
   "execution_count": 28,
   "metadata": {},
   "outputs": [
    {
     "name": "stdout",
     "output_type": "stream",
     "text": [
      "--------------------------------------------------------\n",
      "Dataframe Shape: (74669, 4) \n",
      "\n",
      "Data Value Types\n",
      "cid              int64\n",
      "month            int64\n",
      "spending       float64\n",
      "transaction      int64\n",
      "dtype: object\n",
      "--------------------------------------------------------\n",
      "                cid         month      spending   transaction\n",
      "count  74669.000000  74669.000000  74669.000000  74669.000000\n",
      "mean    5007.502029      6.502404    106.310297     29.495641\n",
      "std     2883.623913      3.454033     97.689002      9.793271\n",
      "min        1.000000      1.000000     25.920000      2.000000\n",
      "25%     2506.000000      4.000000     56.060000     23.000000\n",
      "50%     5015.000000      6.000000     79.490000     28.000000\n",
      "75%     7502.000000     10.000000    120.890000     34.000000\n",
      "max    10000.000000     12.000000   3512.160000    148.000000\n",
      "--------------------------------------------------------\n",
      "First 100 Values\n",
      "     cid  month  spending  transaction\n",
      "0     1      3     52.57           27\n",
      "1     1      4     76.98           24\n",
      "2     1      7     66.42           26\n",
      "3     1      8     54.54           26\n",
      "4     1      9    128.21           27\n",
      "5     1     10     49.57           18\n",
      "6     1     11    288.44           37\n",
      "7     2      1    186.01           37\n",
      "8     2      2     43.30           28\n",
      "9     2      3     75.66           35\n",
      "10    2      4     58.60           24\n",
      "11    2      6     65.07           27\n",
      "12    2      9     66.13           25\n",
      "13    2     11     38.68           42\n",
      "14    2     12     37.60           48\n",
      "15    3      1     66.19           28\n",
      "16    3      4     59.15           25\n",
      "17    3      7     42.07           17\n",
      "18    3      8    141.75           26\n",
      "19    3      9    159.92           51\n",
      "20    3     11     52.42           21\n",
      "21    4      1     60.07           25\n",
      "22    4      8     83.96           23\n",
      "23    4     10     38.35           24\n",
      "24    4     12    163.17           29\n",
      "25    5      1     53.08           18\n",
      "26    5      4     64.12           26\n",
      "27    5      6     59.17           33\n",
      "28    5      7     67.24           33\n",
      "29    5      8     99.41           30\n",
      "30    5     10    284.20           29\n",
      "31    6      3     42.56           32\n",
      "32    6      7     57.73           24\n",
      "33    6      8     75.09           38\n",
      "34    6     10     34.68           23\n",
      "35    6     11     48.29           16\n",
      "36    7      1     72.75           23\n",
      "37    7      2     59.78           20\n",
      "38    7      3     93.01           23\n",
      "39    7      5     49.95           18\n",
      "40    7      6    128.62           31\n",
      "41    7      7     73.83           32\n",
      "42    7      9    153.33           53\n",
      "43    7     11    138.67           30\n",
      "44    7     12    114.36           62\n",
      "45    8      2    179.12           30\n",
      "46    8      3     89.98           22\n",
      "47    8      4    108.81           30\n",
      "48    8      6     79.00           33\n",
      "49    8      8    167.48           27\n",
      "50    8     10    108.32           31\n",
      "51    8     12     96.88           37\n",
      "52    9      4     45.92           32\n",
      "53    9      5     99.74           26\n",
      "54    9      6    340.24           29\n",
      "55    9     11     93.57           21\n",
      "56    9     12    138.82           38\n",
      "57   10      2     91.88           40\n",
      "58   10      3     80.89           36\n",
      "59   10      6    144.65           31\n",
      "60   10      7     51.56           20\n",
      "61   10      8     54.36           28\n",
      "62   10     10     37.52           24\n",
      "63   10     12     54.09           25\n",
      "64   11      1     80.93           24\n",
      "65   11      2    177.94           28\n",
      "66   11      3     66.86           19\n",
      "67   11      5     70.30           40\n",
      "68   11      6    117.58           28\n",
      "69   11      7    104.67           44\n",
      "70   11      8     66.60           47\n",
      "71   11      9     75.47           20\n",
      "72   11     10     91.88           29\n",
      "73   11     11     57.18           26\n",
      "74   11     12     85.62           46\n",
      "75   12      1    124.86           25\n",
      "76   12      3     64.88           22\n",
      "77   12      6     47.89           24\n",
      "78   12      8    113.17           25\n",
      "79   12     10     50.51           20\n",
      "80   12     12     46.25           24\n",
      "81   13      1     75.12           57\n",
      "82   13      2    144.54           27\n",
      "83   13      4     44.91           23\n",
      "84   13      5     42.55           20\n",
      "85   13      6     65.52           45\n",
      "86   13      7     77.10           28\n",
      "87   13      9     33.19           20\n",
      "88   13     10    147.81           29\n",
      "89   13     11    327.84           33\n",
      "90   14      1     48.99           32\n",
      "91   14      2     78.38           21\n",
      "92   14      4     49.41           32\n",
      "93   14      5    377.78           38\n",
      "94   14      6     75.36           44\n",
      "95   14      7     64.48           31\n",
      "96   14      8     46.83           19\n",
      "97   14      9     67.33           30\n",
      "98   14     10     81.79           31\n",
      "99   14     12     44.33           27\n",
      "--------------------------------------------------------\n"
     ]
    }
   ],
   "source": [
    "# 4.Check quality\n",
    "\n",
    "# Drop missing rows\n",
    "df = df.dropna()\n",
    "\n",
    "# Reset index for dropped rows\n",
    "df.reset_index(inplace=True, drop=True)\n",
    "\n",
    "# Check new results\n",
    "explore_dataframe(df)\n"
   ]
  },
  {
   "cell_type": "markdown",
   "metadata": {},
   "source": [
    "#### Summarizing the data\n",
    "\n",
    "We would like you to calculate these values for each customers:\n",
    "1. **avg_spending:** average spending for each customer\n",
    "2. **std_spending:** standart deviation of spending for each customer\n",
    "3. **tot_spending:** total spending for each customer\n",
    "4. **tot_transaction:** total number of transaction for each customer\n",
    "5. **most_spending_month:** the month that each customer has the most spending    \n",
    "6. **most_transaction_month:** the month that each customer has the most transaction\n",
    "7. Print the results"
   ]
  },
  {
   "cell_type": "markdown",
   "metadata": {},
   "source": [
    "The output seen as:\n",
    "\n",
    "|   cid |   avg_spending |   std_spending |   tot_spending |   tot_transaction |   most_spending_month |   most_transaction_month |\n",
    "|------:|---------------:|---------------:|---------------:|------------------:|----------------------:|-------------------------:|\n",
    "|     1 |       102.39   |        86.3929 |         716.73 |               185 |                    11 |                       11 |\n",
    "|     2 |        71.3813 |        48.3853 |         571.05 |               266 |                     1 |                       12 |\n",
    "|     3 |        86.9167 |        50.4738 |         521.5  |               168 |                     9 |                        9 |\n",
    "|     4 |        86.3875 |        54.4722 |         345.55 |               101 |                    12 |                       12 |\n",
    "|     5 |       104.537  |        89.4826 |         627.22 |               169 |                    10 |                        6 |"
   ]
  },
  {
   "cell_type": "code",
   "execution_count": 26,
   "metadata": {},
   "outputs": [],
   "source": [
    "avg_spending = df.groupby(\"cid\").agg({\"spending\": \"mean\"})\n",
    "std_spending = df.groupby(\"cid\").agg({\"spending\": \"std\"})\n",
    "tot_spending = df.groupby(\"cid\").agg({\"spending\": \"sum\"})\n",
    "tot_transaction = df.groupby(\"cid\").agg({\"transaction\": \"sum\"})\n",
    "most_spending_month = df.loc[df.groupby(\"cid\")[\"spending\"].idxmax()][[\"cid\", \"month\"]].set_index(\"cid\")\n",
    "most_transaction_month = df.loc[df.groupby(\"cid\")[\"transaction\"].idxmax()][[\"cid\", \"month\"]].set_index(\"cid\")"
   ]
  },
  {
   "cell_type": "code",
   "execution_count": 33,
   "metadata": {},
   "outputs": [
    {
     "data": {
      "text/html": [
       "<div>\n",
       "<style scoped>\n",
       "    .dataframe tbody tr th:only-of-type {\n",
       "        vertical-align: middle;\n",
       "    }\n",
       "\n",
       "    .dataframe tbody tr th {\n",
       "        vertical-align: top;\n",
       "    }\n",
       "\n",
       "    .dataframe thead th {\n",
       "        text-align: right;\n",
       "    }\n",
       "</style>\n",
       "<table border=\"1\" class=\"dataframe\">\n",
       "  <thead>\n",
       "    <tr style=\"text-align: right;\">\n",
       "      <th></th>\n",
       "      <th>avg_spending</th>\n",
       "      <th>std_spending</th>\n",
       "      <th>tot_spending</th>\n",
       "      <th>tot_transaction</th>\n",
       "      <th>most_spending_month</th>\n",
       "      <th>most_transaction_month</th>\n",
       "    </tr>\n",
       "    <tr>\n",
       "      <th>cid</th>\n",
       "      <th></th>\n",
       "      <th></th>\n",
       "      <th></th>\n",
       "      <th></th>\n",
       "      <th></th>\n",
       "      <th></th>\n",
       "    </tr>\n",
       "  </thead>\n",
       "  <tbody>\n",
       "    <tr>\n",
       "      <th>1</th>\n",
       "      <td>102.390000</td>\n",
       "      <td>86.392892</td>\n",
       "      <td>716.73</td>\n",
       "      <td>185</td>\n",
       "      <td>11</td>\n",
       "      <td>11</td>\n",
       "    </tr>\n",
       "    <tr>\n",
       "      <th>2</th>\n",
       "      <td>71.381250</td>\n",
       "      <td>48.385250</td>\n",
       "      <td>571.05</td>\n",
       "      <td>266</td>\n",
       "      <td>1</td>\n",
       "      <td>12</td>\n",
       "    </tr>\n",
       "    <tr>\n",
       "      <th>3</th>\n",
       "      <td>86.916667</td>\n",
       "      <td>50.473770</td>\n",
       "      <td>521.50</td>\n",
       "      <td>168</td>\n",
       "      <td>9</td>\n",
       "      <td>9</td>\n",
       "    </tr>\n",
       "    <tr>\n",
       "      <th>4</th>\n",
       "      <td>86.387500</td>\n",
       "      <td>54.472186</td>\n",
       "      <td>345.55</td>\n",
       "      <td>101</td>\n",
       "      <td>12</td>\n",
       "      <td>12</td>\n",
       "    </tr>\n",
       "    <tr>\n",
       "      <th>5</th>\n",
       "      <td>104.536667</td>\n",
       "      <td>89.482588</td>\n",
       "      <td>627.22</td>\n",
       "      <td>169</td>\n",
       "      <td>10</td>\n",
       "      <td>6</td>\n",
       "    </tr>\n",
       "  </tbody>\n",
       "</table>\n",
       "</div>"
      ],
      "text/plain": [
       "     avg_spending  std_spending  tot_spending  tot_transaction  \\\n",
       "cid                                                              \n",
       "1      102.390000     86.392892        716.73              185   \n",
       "2       71.381250     48.385250        571.05              266   \n",
       "3       86.916667     50.473770        521.50              168   \n",
       "4       86.387500     54.472186        345.55              101   \n",
       "5      104.536667     89.482588        627.22              169   \n",
       "\n",
       "     most_spending_month  most_transaction_month  \n",
       "cid                                               \n",
       "1                     11                      11  \n",
       "2                      1                      12  \n",
       "3                      9                       9  \n",
       "4                     12                      12  \n",
       "5                     10                       6  "
      ]
     },
     "execution_count": 33,
     "metadata": {},
     "output_type": "execute_result"
    }
   ],
   "source": [
    "new_df = pd.concat([avg_spending, std_spending, tot_spending, tot_transaction, most_spending_month, most_transaction_month], axis=1,)\n",
    "new_df.columns = ['avg_spending', 'std_spending', 'tot_spending', 'tot_transaction', 'most_spending_month', 'most_transaction_month']\n",
    "new_df.head()"
   ]
  },
  {
   "cell_type": "markdown",
   "metadata": {},
   "source": [
    "#### Data Understanding\n",
    "1. Plot the histogram for average spending of costomer\n",
    "2. Calculate mean, mode, median of the distribution (*you should round the values before calculating the mode*)\n",
    "3. Explain the type of the distributon that describes the pattern in the histogram; justify your answer with mean, mode median (*you can answer this question in the comment*)"
   ]
  },
  {
   "cell_type": "code",
   "execution_count": 34,
   "metadata": {},
   "outputs": [
    {
     "data": {
      "image/png": "[encoded data removed]",
      "text/plain": [
       "<Figure size 640x480 with 1 Axes>"
      ]
     },
     "metadata": {},
     "output_type": "display_data"
    }
   ],
   "source": [
    "#1. Plot the histogram for average spending of costomer\n",
    "\n",
    "plt.hist(avg_spending, bins=20, color='blue')\n",
    "\n",
    "plt.xlabel('Average Spending')\n",
    "plt.ylabel('Frequency')\n",
    "plt.title('Histogram of Average Customer Spending')\n",
    "\n",
    "plt.show()"
   ]
  },
  {
   "cell_type": "code",
   "execution_count": 39,
   "metadata": {},
   "outputs": [
    {
     "name": "stdout",
     "output_type": "stream",
     "text": [
      "Mean:\n",
      " avg_spending              106.286485\n",
      "std_spending               73.054430\n",
      "tot_spending              793.808353\n",
      "tot_transaction           220.241000\n",
      "most_spending_month         6.466400\n",
      "most_transaction_month      6.393400\n",
      "dtype: float64 \n",
      "\n",
      "Mode:\n",
      "    avg_spending  std_spending  tot_spending  tot_transaction  \\\n",
      "0          86.0          43.0         615.0              215   \n",
      "\n",
      "   most_spending_month  most_transaction_month  \n",
      "0                    4                       4   \n",
      "\n",
      "Median:\n",
      " avg_spending               98.44500\n",
      "std_spending               54.82643\n",
      "tot_spending              738.43000\n",
      "tot_transaction           219.00000\n",
      "most_spending_month         6.00000\n",
      "most_transaction_month      6.00000\n",
      "dtype: float64 \n",
      "\n"
     ]
    }
   ],
   "source": [
    "#2. Calculate mean, mode, median of the distribution (you should round the values before calculating the mode)\n",
    "print(\"Mean:\\n\", df.mean(), \"\\n\")\n",
    "print(\"Mode:\\n\", df.round().mode(), \"\\n\")\n",
    "print(\"Median:\\n\", df.median(), \"\\n\")"
   ]
  },
  {
   "cell_type": "code",
   "execution_count": null,
   "metadata": {},
   "outputs": [],
   "source": [
    "#3. Explain the type of the distributon that describes the pattern in the histogram; justify your answer with mean, mode median (you can answer this question in the comment)"
   ]
  },
  {
   "cell_type": "markdown",
   "metadata": {},
   "source": [
    "## Question 2"
   ]
  },
  {
   "cell_type": "markdown",
   "metadata": {},
   "source": [
    "#### Write a function to replace all spaces in a string with '--' using an array \n",
    "Make sure that your function O(n) runtime complexity and do not use built-in replace() function.\n",
    "\n",
    "<b>Example input</b>: \"Mr John Smith, 13\" <br>\n",
    "<b>Example output</b>: \"Mr--John--Smith\" <br>\n",
    "\n",
    "You may assume that the array has sufficient space at the end to hold the additional characters, and you are given the true length of the string with the input. Here \"13\" represents the actual length of the string."
   ]
  },
  {
   "cell_type": "code",
   "execution_count": 12,
   "metadata": {},
   "outputs": [],
   "source": [
    "import re\n",
    "\n",
    "def space_remover(input_str):    \n",
    "    output_str = re.sub(r'[.,; ]+', '--', input_str)\n",
    "    return output_str"
   ]
  },
  {
   "cell_type": "code",
   "execution_count": 13,
   "metadata": {},
   "outputs": [
    {
     "name": "stdout",
     "output_type": "stream",
     "text": [
      "Mr--John--Smith--13\n",
      "Woow--Data--Science--17\n"
     ]
    }
   ],
   "source": [
    "# testing\n",
    "input_str1 = 'Mr John Smith, 13'\n",
    "print(space_remover(input_str1)) # expected solution is 'Mr--John--Smith'\n",
    "input_str1 = 'Woow Data Science, 17'\n",
    "print(space_remover(input_str1)) # expected solution is 'Woow--Data--Science'"
   ]
  },
  {
   "cell_type": "markdown",
   "metadata": {},
   "source": [
    "## Question 3"
   ]
  },
  {
   "cell_type": "markdown",
   "metadata": {},
   "source": [
    "#### Using regular expression do following operations on **lorem_ipsum_text**:\n",
    "1. Delete all characters if they are not letters (A-z) and spaces \n",
    "2. Find the count of all occurrence of the words that ends with 'us' but not 'llus'\n",
    "3. Replace all 'ae' with 'æ', (*Don't forget 'Aenean => Ænean'*)\n",
    "3. Replace all the vowels following by 'll' if the word does not end with that vowel as:\n",
    "    - a => @ (ex: nullam => null@m, but nulla => nulla)\n",
    "    - e => 3\n",
    "    - i => %\n",
    "    - o => 0\n",
    "    - u => &\n",
    "\n",
    "Print the results"
   ]
  },
  {
   "cell_type": "code",
   "execution_count": null,
   "metadata": {},
   "outputs": [],
   "source": [
    "import re\n",
    "\n",
    "lorem_ipsum_text = \"\"\"Lorem ipsum dolor sit amet, consectetur adipiscing elit. Ut sed rhoncus sem, et sagittis tellus. Donec hendrerit sapien ac purus pretium tincidunt. Orci varius natoque penatibus et magnis dis parturient montes, nascetur ridiculus mus. Pellentesque aliquet, lectus eget finibus aliquet, tortor quam semper justo, sed venenatis nunc lectus a arcu. Vivamus egestas rhoncus dolor, vitae sollicitudin urna. Integer eleifend purus eget porta sagittis. Phasellus malesuada ex nibh, a lobortis tellus tempor hendrerit. Integer tincidunt ante et varius semper. Maecenas quis finibus lacus.\n",
    "Sed luctus varius nisi, ac pulvinar erat gravida sit amet. Mauris gravida scelerisque nisi vel sollicitudin. In porta diam nec lorem bibendum semper. Cras ut imperdiet sem, vel bibendum risus. Nulla suscipit enim et efficitur interdum. Mauris consectetur porttitor ipsum. Praesent a tortor quis arcu porttitor ullamcorper ac et diam. Pellentesque rhoncus ultrices facilisis. Pellentesque lectus quam, vestibulum in erat non, venenatis vehicula augue. Praesent at viverra est. Integer libero neque, commodo ut ipsum ac, vulputate pharetra libero. Pellentesque in rhoncus magna. In hac habitasse platea dictumst.\n",
    "Praesent ultrices vel elit vel auctor. Nulla vitae ligula in elit mattis aliquam. Quisque vitae finibus enim. Praesent id maximus mauris. Nunc in pulvinar ligula. Donec condimentum condimentum ipsum aliquet volutpat. Maecenas non porta nunc. Donec risus nulla, pharetra in rhoncus sit amet, efficitur quis urna.\n",
    "Praesent diam ante, ultrices eget libero sit amet, semper auctor metus. Aliquam sit amet vulputate nibh. Suspendisse potenti. Duis dui ligula, consectetur egestas nibh nec, ullamcorper iaculis turpis. Ut volutpat lacus in leo porta, a lobortis diam placerat. Aenean iaculis, leo at semper fringilla, lectus magna rutrum neque, sollicitudin accumsan est felis at purus. Phasellus et scelerisque libero, ac malesuada nulla. Pellentesque maximus eget erat ac consequat. Ut elementum sapien sed leo aliquam, at ultrices elit venenatis. Duis accumsan finibus imperdiet. Vestibulum ante ipsum primis in faucibus orci luctus et ultrices posuere cubilia curae;\n",
    "Nulla augue nunc, pharetra quis tellus sed, egestas luctus mi. Fusce hendrerit sagittis urna eleifend varius. Vestibulum velit magna, aliquam nec tincidunt hendrerit, aliquam non ex. Maecenas ut sem imperdiet, semper metus et, gravida quam. Mauris placerat sed erat sed dapibus. Aliquam a suscipit elit. Fusce non dolor justo. Suspendisse dictum posuere faucibus. Proin pretium ipsum vitae orci sagittis placerat. Nulla hendrerit erat sit amet nunc tristique, quis lacinia enim lobortis. Aenean in pretium augue. Proin posuere purus at nulla ultrices molestie. Morbi et pharetra justo. In vel arcu elit. Nullam at est id odio bibendum iaculis nec dapibus velit.\n",
    "\"\"\""
   ]
  },
  {
   "cell_type": "code",
   "execution_count": null,
   "metadata": {},
   "outputs": [],
   "source": [
    "\n",
    "# Delete all characters that are not letters (A-z) and spaces\n",
    "lorem_ipsum_text = re.sub(r'[^A-Za-z\\s]', '', lorem_ipsum_text)\n",
    "print(lorem_ipsum_text)\n"
   ]
  },
  {
   "cell_type": "code",
   "execution_count": null,
   "metadata": {},
   "outputs": [],
   "source": [
    "#Find the count of all occurrence of the words that ends with 'us' but not 'llus'\n",
    "count = len(re.findall(r'\\b(?!llus)\\w+us\\b', lorem_ipsum_text))\n",
    "print(count)"
   ]
  },
  {
   "cell_type": "code",
   "execution_count": null,
   "metadata": {},
   "outputs": [],
   "source": [
    "# Replace all 'ae' with 'æ', (Don't forget 'Aenean => Ænean')\n",
    "lorem_ipsum_text = re.sub(r'ae', 'æ', lorem_ipsum_text, flags=re.IGNORECASE)\n",
    "print(lorem_ipsum_text)"
   ]
  },
  {
   "cell_type": "code",
   "execution_count": null,
   "metadata": {},
   "outputs": [],
   "source": [
    "#Replace all the vowels following by 'll' if the word does not end with that vowel as:\n",
    "lorem_ipsum_text = re.sub(r'(?<![aeiouAEIOU])a(?=[^aeiouAEIOU]*\\b)', '@', lorem_ipsum_text)\n",
    "lorem_ipsum_text = re.sub(r'(?<![aeiouAEIOU])e(?=[^aeiouAEIOU]*\\b)', '3', lorem_ipsum_text)\n",
    "lorem_ipsum_text = re.sub(r'(?<![aeiouAEIOU])i(?=[^aeiouAEIOU]*\\b)', '%', lorem_ipsum_text)\n",
    "lorem_ipsum_text = re.sub(r'(?<![aeiouAEIOU])o(?=[^aeiouAEIOU]*\\b)', '0', lorem_ipsum_text)\n",
    "lorem_ipsum_text = re.sub(r'(?<![aeiouAEIOU])u(?=[^aeiouAEIOU]*\\b)', '&', lorem_ipsum_text)\n",
    "print(lorem_ipsum_text)"
   ]
  },
  {
   "cell_type": "markdown",
   "metadata": {},
   "source": [
    "## Question 4"
   ]
  },
  {
   "cell_type": "markdown",
   "metadata": {},
   "source": [
    "You should write your code in **SQL programming language**. Don't forgot that you can not run your code in this notebook."
   ]
  },
  {
   "cell_type": "markdown",
   "metadata": {},
   "source": [
    "Consider the \"Employee\" table below:"
   ]
  },
  {
   "cell_type": "markdown",
   "metadata": {},
   "source": [
    "| Emp_Id  | Emp_name  | Salary  | Manager_Id  |\n",
    "|---|---|---|---|\n",
    "| 10 | Anil  | 50000  |  18 |\n",
    "| 11 | Vikas  | 75000  |   16 |\n",
    "| 12 | Nisha | 40000 |  18 |\n",
    "| 13 | Nidhi  | 60000 | 17  |\n",
    "| 14 | Priya  | 80000 |  18 |\n",
    "| 15 | Mohit |  45000 |  18 |\n",
    "| 16 | Rajesh  | 90000 | -  |\n",
    "| 17 | Raman  | 55000 | 16  |\n",
    "| 18 | Santosh  | 65000 |  17 |"
   ]
  },
  {
   "cell_type": "markdown",
   "metadata": {},
   "source": [
    "Write a query to generate below output:"
   ]
  },
  {
   "cell_type": "markdown",
   "metadata": {},
   "source": [
    "| Manager_Id  | Manager  | Average_Salary_Under_Manager  |\n",
    "|---|---|---|\n",
    "| 16 | Rajesh  | 65000  |\n",
    "| 17 | Raman  | 62500  |\n",
    "| 18 | Santosh | 53750 |"
   ]
  },
  {
   "cell_type": "code",
   "execution_count": null,
   "metadata": {
    "vscode": {
     "languageId": "sql"
    }
   },
   "outputs": [],
   "source": [
    "SELECT \n",
    "  Manager_Id, \n",
    "  Emp_Name as Manager,\n",
    "  AVG(Salary) AS Avg_Salary_Under_Manager\n",
    "FROM \n",
    "  Employee\n",
    "GROUP BY \n",
    "  Manager_Id"
   ]
  },
  {
   "cell_type": "markdown",
   "metadata": {},
   "source": [
    "##  Thank you.."
   ]
  },
  {
   "cell_type": "code",
   "execution_count": null,
   "metadata": {},
   "outputs": [],
   "source": [
    "print(\"You are most welcome\")"
   ]
  }
 ],
 "metadata": {
  "environment": {
   "name": "tf2-gpu.2-1.m46",
   "type": "gcloud",
   "uri": "gcr.io/deeplearning-platform-release/tf2-gpu.2-1:m46"
  },
  "kernelspec": {
   "display_name": "Python 3 (ipykernel)",
   "language": "python",
   "name": "python3"
  },
  "language_info": {
   "codemirror_mode": {
    "name": "ipython",
    "version": 3
   },
   "file_extension": ".py",
   "mimetype": "text/x-python",
   "name": "python",
   "nbconvert_exporter": "python",
   "pygments_lexer": "ipython3",
   "version": "3.9.16"
  }
 },
 "nbformat": 4,
 "nbformat_minor": 4
}
